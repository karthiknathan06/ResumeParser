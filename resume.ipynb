{
  "nbformat": 4,
  "nbformat_minor": 0,
  "metadata": {
    "colab": {
      "name": "resume.ipynb",
      "version": "0.3.2",
      "provenance": [],
      "collapsed_sections": []
    },
    "kernelspec": {
      "name": "python3",
      "display_name": "Python 3"
    }
  },
  "cells": [
    {
      "metadata": {
        "id": "cw_dX0g5SvdD",
        "colab_type": "code",
        "colab": {}
      },
      "cell_type": "code",
      "source": [
        "import json\n",
        "import random\n",
        "import logging\n",
        "from sklearn.metrics import classification_report\n",
        "from sklearn.metrics import precision_recall_fscore_support\n",
        "from spacy.gold import GoldParse\n",
        "from spacy.scorer import Scorer\n",
        "from sklearn.metrics import accuracy_score"
      ],
      "execution_count": 0,
      "outputs": []
    },
    {
      "metadata": {
        "id": "amNElwMwTNQe",
        "colab_type": "code",
        "colab": {}
      },
      "cell_type": "code",
      "source": [
        "def convert_dataturks_to_spacy(dataturks_JSON_FilePath):\n",
        "    try:\n",
        "        training_data = []\n",
        "        lines=[]\n",
        "        with open(dataturks_JSON_FilePath, 'r') as f:\n",
        "            lines = f.readlines()\n",
        "\n",
        "        for line in lines:\n",
        "            data = json.loads(line)\n",
        "            text = data['content']\n",
        "            entities = []\n",
        "            for annotation in data['annotation']:\n",
        "                #only a single point in text annotation.\n",
        "                point = annotation['points'][0]\n",
        "                labels = annotation['label']\n",
        "                # handle both list of labels or a single label.\n",
        "                if not isinstance(labels, list):\n",
        "                    labels = [labels]\n",
        "\n",
        "                for label in labels:\n",
        "                    entities.append((point['start'], point['end'] + 1 ,label))\n",
        "\n",
        "\n",
        "            training_data.append((text, {\"entities\" : entities}))\n",
        "\n",
        "        return training_data\n",
        "    except Exception as e:\n",
        "        logging.exception(\"Unable to process \" + dataturks_JSON_FilePath + \"\\n\" + \"error = \" + str(e))\n",
        "        return None"
      ],
      "execution_count": 0,
      "outputs": []
    },
    {
      "metadata": {
        "id": "8f7ZMbIjY6OU",
        "colab_type": "code",
        "colab": {}
      },
      "cell_type": "code",
      "source": [
        ""
      ],
      "execution_count": 0,
      "outputs": []
    },
    {
      "metadata": {
        "id": "hakLlLzBZL7E",
        "colab_type": "code",
        "colab": {}
      },
      "cell_type": "code",
      "source": [
        ""
      ],
      "execution_count": 0,
      "outputs": []
    },
    {
      "metadata": {
        "id": "IHe8BwwZZPlf",
        "colab_type": "code",
        "outputId": "fd983dbf-ef1e-4bd2-8248-957bafad747b",
        "colab": {
          "base_uri": "https://localhost:8080/",
          "height": 124
        }
      },
      "cell_type": "code",
      "source": [
        "from google.colab import drive\n",
        "drive.mount('/content/gdrive')"
      ],
      "execution_count": 0,
      "outputs": [
        {
          "output_type": "stream",
          "text": [
            "Go to this URL in a browser: https://accounts.google.com/o/oauth2/auth?client_id=947318989803-6bn6qk8qdgf4n4g3pfee6491hc0brc4i.apps.googleusercontent.com&redirect_uri=urn%3Aietf%3Awg%3Aoauth%3A2.0%3Aoob&scope=email%20https%3A%2F%2Fwww.googleapis.com%2Fauth%2Fdocs.test%20https%3A%2F%2Fwww.googleapis.com%2Fauth%2Fdrive%20https%3A%2F%2Fwww.googleapis.com%2Fauth%2Fdrive.photos.readonly%20https%3A%2F%2Fwww.googleapis.com%2Fauth%2Fpeopleapi.readonly&response_type=code\n",
            "\n",
            "Enter your authorization code:\n",
            "··········\n",
            "Mounted at /content/gdrive\n"
          ],
          "name": "stdout"
        }
      ]
    },
    {
      "metadata": {
        "id": "dS7KXIqqao2t",
        "colab_type": "code",
        "colab": {}
      },
      "cell_type": "code",
      "source": [
        "import spacy\n",
        "def train_spacy():\n",
        "\n",
        "    TRAIN_DATA = convert_dataturks_to_spacy('/content/gdrive/My Drive/traindata (1).json')\n",
        "    nlp = spacy.blank('en') \n",
        "    if 'ner' not in nlp.pipe_names:\n",
        "        ner = nlp.create_pipe('ner')\n",
        "        nlp.add_pipe(ner, last=True)\n",
        "       \n",
        "    for _, annotations in TRAIN_DATA:\n",
        "         for ent in annotations.get('entities'):\n",
        "            ner.add_label(ent[2])\n",
        "    other_pipes = [pipe for pipe in nlp.pipe_names if pipe != 'ner']\n",
        "    with nlp.disable_pipes(*other_pipes):  \n",
        "        optimizer = nlp.begin_training()\n",
        "        for itn in range(10):\n",
        "            print(\"Starting iteration \" + str(itn))\n",
        "            random.shuffle(TRAIN_DATA)\n",
        "            losses = {}\n",
        "            for text, annotations in TRAIN_DATA:\n",
        "                nlp.update(\n",
        "                    [text],  \n",
        "                    [annotations],  \n",
        "                    drop=0.2,  \n",
        "                    sgd=optimizer, \n",
        "                    losses=losses)\n",
        "            print(losses)\n",
        "    examples = convert_dataturks_to_spacy('/content/gdrive/My Drive/testdata.json')\n",
        "    tp=0\n",
        "    tr=0\n",
        "    tf=0\n",
        "    ta=0\n",
        "    c=0        \n",
        "    for text,annot in examples:\n",
        "\n",
        "        f=open(\"/content/gdrive/My Drive/resume\"+str(c)+\".txt\",\"w\")\n",
        "        doc_to_test=nlp(text)\n",
        "        d={}\n",
        "        for ent in doc_to_test.ents:\n",
        "            d[ent.label_]=[]\n",
        "        for ent in doc_to_test.ents:\n",
        "            d[ent.label_].append(ent.text)\n",
        "\n",
        "        for i in set(d.keys()):\n",
        "\n",
        "            f.write(\"\\n\\n\")\n",
        "            f.write(i +\":\"+\"\\n\")\n",
        "            for j in set(d[i]):\n",
        "                f.write(j.replace('\\n','')+\"\\n\")\n",
        "        d={}\n",
        "        for ent in doc_to_test.ents:\n",
        "            d[ent.label_]=[0,0,0,0,0,0]\n",
        "        for ent in doc_to_test.ents:\n",
        "            doc_gold_text= nlp.make_doc(text)\n",
        "            gold = GoldParse(doc_gold_text, entities=annot.get(\"entities\"))\n",
        "            y_true = [ent.label_ if ent.label_ in x else 'Not '+ent.label_ for x in gold.ner]\n",
        "            y_pred = [x.ent_type_ if x.ent_type_ ==ent.label_ else 'Not '+ent.label_ for x in doc_to_test]  \n",
        "            if(d[ent.label_][0]==0):\n",
        "                #f.write(\"For Entity \"+ent.label_+\"\\n\")   \n",
        "                #f.write(classification_report(y_true, y_pred)+\"\\n\")\n",
        "                (p,r,f,s)= precision_recall_fscore_support(y_true,y_pred,average='weighted')\n",
        "                a=accuracy_score(y_true,y_pred)\n",
        "                d[ent.label_][0]=1\n",
        "                d[ent.label_][1]+=p\n",
        "                d[ent.label_][2]+=r\n",
        "                d[ent.label_][3]+=f\n",
        "                d[ent.label_][4]+=a\n",
        "                d[ent.label_][5]+=1\n",
        "        c+=1\n",
        "    for i in d:\n",
        "        print(\"\\n For Entity \"+i+\"\\n\")\n",
        "        print(\"Accuracy : \"+str((d[i][4]/d[i][5])*100)+\"%\")\n",
        "        print(\"Precision : \"+str(d[i][1]/d[i][5]))\n",
        "        print(\"Recall : \"+str(d[i][2]/d[i][5]))\n",
        "        print(\"F-score : \"+str(d[i][3]/d[i][5]))\n"
      ],
      "execution_count": 0,
      "outputs": []
    },
    {
      "metadata": {
        "id": "YyEqqjFEcAAK",
        "colab_type": "code",
        "outputId": "1d78b90c-9f33-40b7-dbd2-79abee98ab42",
        "colab": {
          "base_uri": "https://localhost:8080/",
          "height": 1285
        }
      },
      "cell_type": "code",
      "source": [
        "train_spacy()"
      ],
      "execution_count": 0,
      "outputs": [
        {
          "output_type": "stream",
          "text": [
            "Warning: Unnamed vectors -- this won't allow multiple vectors models to be loaded. (Shape: (0, 0))\n",
            "Statring iteration 0\n",
            "{'ner': 4800.179222855605}\n",
            "Statring iteration 1\n",
            "{'ner': 3064.3543466448637}\n",
            "Statring iteration 2\n",
            "{'ner': 2452.671437849755}\n",
            "Statring iteration 3\n",
            "{'ner': 2113.557303986995}\n",
            "Statring iteration 4\n",
            "{'ner': 1878.5686505860529}\n",
            "Statring iteration 5\n",
            "{'ner': 1727.6764730840646}\n",
            "Statring iteration 6\n",
            "{'ner': 1528.3819027355803}\n",
            "Statring iteration 7\n",
            "{'ner': 1339.2257054363083}\n",
            "Statring iteration 8\n",
            "{'ner': 1305.7832655030206}\n",
            "Statring iteration 9\n",
            "{'ner': 1171.0626858069368}\n"
          ],
          "name": "stdout"
        },
        {
          "output_type": "stream",
          "text": [
            "/usr/local/lib/python3.6/dist-packages/sklearn/metrics/classification.py:1137: UndefinedMetricWarning: Recall and F-score are ill-defined and being set to 0.0 in labels with no true samples.\n",
            "  'recall', 'true', average, warn_for)\n"
          ],
          "name": "stderr"
        },
        {
          "output_type": "stream",
          "text": [
            "\n",
            " For Entity Name\n",
            "\n",
            "Accuracy : 99.83805668016194%\n",
            "Precision : 0.9983831936194594\n",
            "Recall : 0.9983805668016195\n",
            "F-score : 0.9981113185060555\n",
            "\n",
            " For Entity Location\n",
            "\n",
            "Accuracy : 99.19028340080972%\n",
            "Precision : 0.9887112503324567\n",
            "Recall : 0.9919028340080972\n",
            "F-score : 0.9892169555139021\n",
            "\n",
            " For Entity Email Address\n",
            "\n",
            "Accuracy : 99.43319838056681%\n",
            "Precision : 1.0\n",
            "Recall : 0.994331983805668\n",
            "F-score : 0.9971579374746244\n",
            "\n",
            " For Entity Designation\n",
            "\n",
            "Accuracy : 99.83805668016194%\n",
            "Precision : 1.0\n",
            "Recall : 0.9983805668016195\n",
            "F-score : 0.9991896272285252\n",
            "\n",
            " For Entity Companies worked at\n",
            "\n",
            "Accuracy : 99.91902834008097%\n",
            "Precision : 1.0\n",
            "Recall : 0.9991902834008097\n",
            "F-score : 0.9995949777237749\n",
            "\n",
            " For Entity Graduation Year\n",
            "\n",
            "Accuracy : 99.91902834008097%\n",
            "Precision : 0.9995951417004049\n",
            "Recall : 0.9991902834008097\n",
            "F-score : 0.9993250720577754\n",
            "\n",
            " For Entity Degree\n",
            "\n",
            "Accuracy : 99.83805668016194%\n",
            "Precision : 1.0\n",
            "Recall : 0.9983805668016195\n",
            "F-score : 0.9991896272285252\n"
          ],
          "name": "stdout"
        }
      ]
    },
    {
      "metadata": {
        "id": "B4a5kyTVcj5t",
        "colab_type": "code",
        "colab": {}
      },
      "cell_type": "code",
      "source": [
        ""
      ],
      "execution_count": 0,
      "outputs": []
    }
  ]
}